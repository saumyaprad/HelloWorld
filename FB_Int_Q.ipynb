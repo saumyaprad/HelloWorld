{
  "nbformat": 4,
  "nbformat_minor": 0,
  "metadata": {
    "colab": {
      "name": "FB_Int_Q.ipynb",
      "provenance": [],
      "authorship_tag": "ABX9TyOxfpdC7IyTAch11SveY3yk",
      "include_colab_link": true
    },
    "kernelspec": {
      "name": "python3",
      "display_name": "Python 3"
    },
    "language_info": {
      "name": "python"
    }
  },
  "cells": [
    {
      "cell_type": "markdown",
      "metadata": {
        "id": "view-in-github",
        "colab_type": "text"
      },
      "source": [
        "<a href=\"https://colab.research.google.com/github/saumyaprad/HelloWorld/blob/master/FB_Int_Q.ipynb\" target=\"_parent\"><img src=\"https://colab.research.google.com/assets/colab-badge.svg\" alt=\"Open In Colab\"/></a>"
      ]
    },
    {
      "cell_type": "markdown",
      "source": [
        "1) replace the none value with last non null value"
      ],
      "metadata": {
        "id": "0bd51fqK36IE"
      }
    },
    {
      "cell_type": "code",
      "execution_count": 16,
      "metadata": {
        "colab": {
          "base_uri": "https://localhost:8080/"
        },
        "id": "yKbauLnw1Qmu",
        "outputId": "5cb06dd3-fcdc-4450-ba5d-ab0daafcde88"
      },
      "outputs": [
        {
          "output_type": "stream",
          "name": "stdout",
          "text": [
            "[None, 1, 4, 5, 6, 6, 6, 8]\n"
          ]
        }
      ],
      "source": [
        "s=[None,1,4,5,6,None,None,8]\n",
        "for i in range(len(s)):\n",
        "  if s[i]==None and i==0:\n",
        "    continue\n",
        "  elif s[i]==None:\n",
        "    s[i]=s[i-1]\n",
        "print(s)\n"
      ]
    },
    {
      "cell_type": "markdown",
      "source": [
        "Write a function to identify the words that appear in one sentence but not the other (case sensitive)."
      ],
      "metadata": {
        "id": "ghWq0_3C42O7"
      }
    },
    {
      "cell_type": "code",
      "source": [
        "s1 = \"This is the first sentence\"\n",
        "s2 = \"And this is the second sentence\"\n",
        "c=[]\n",
        "l1=list(s1.split())\n",
        "l2=list(s2.split())\n",
        "for i in l1:\n",
        "  if i not in l2:\n",
        "    c.append(i)\n",
        "for i in l2:\n",
        "  if i not in l1:\n",
        "    c.append(i)\n",
        "print(c)\n",
        "\n",
        "\n"
      ],
      "metadata": {
        "colab": {
          "base_uri": "https://localhost:8080/"
        },
        "id": "HhZSLlxZ35oZ",
        "outputId": "427fec06-e005-40fc-c26a-94e40b39e9e1"
      },
      "execution_count": 14,
      "outputs": [
        {
          "output_type": "stream",
          "name": "stdout",
          "text": [
            "['This', 'first', 'And', 'this', 'second']\n"
          ]
        }
      ]
    },
    {
      "cell_type": "markdown",
      "source": [
        "Given a dictionary, print the key for nth highest\n",
        "value present in the dict. If there are more than\n",
        "1 record present for nth highest value then sort\n",
        "the key and print the first one (alphabetically). N can be higher than the number of elements in the dictionary."
      ],
      "metadata": {
        "id": "bA9hflNy8Js0"
      }
    },
    {
      "cell_type": "code",
      "source": [
        "d={\"a\":4,\n",
        "   \"b\":4,\n",
        "   \"c\":1,\n",
        "   \"d\":3,\n",
        "   \"e\":4,\n",
        "   \"f\":5}\n",
        "def func(d,N):\n",
        "  d1=sorted(d.values(),reverse=True)\n",
        "  l=sorted(set(d.values()),reverse=True)\n",
        "  o=l[N-1]\n",
        "  l2=[]\n",
        "  for k,v in d.items():\n",
        "    if d[k]==o:\n",
        "      l2.append(k)\n",
        "  l2.sort()\n",
        "  return(l2[0])\n",
        "func(d,3)\n"
      ],
      "metadata": {
        "colab": {
          "base_uri": "https://localhost:8080/",
          "height": 35
        },
        "id": "BxwstRev1SHs",
        "outputId": "baf28d20-80e7-4f47-e435-5a7a76710296"
      },
      "execution_count": 43,
      "outputs": [
        {
          "output_type": "execute_result",
          "data": {
            "application/vnd.google.colaboratory.intrinsic+json": {
              "type": "string"
            },
            "text/plain": [
              "'d'"
            ]
          },
          "metadata": {},
          "execution_count": 43
        }
      ]
    },
    {
      "cell_type": "markdown",
      "source": [
        "Given a list of ints, balance the list so that each int appears equally in the list. Return a dictionary where the key is the int and the value is the count needed to balance the list"
      ],
      "metadata": {
        "id": "lecKCELxDLU3"
      }
    },
    {
      "cell_type": "code",
      "source": [
        "l=[1, 1, 1, 5, 3, 2, 2]\n",
        "d={}\n",
        "max=0\n",
        "for i in l:\n",
        "  if i in d.keys():\n",
        "    continue\n",
        "  d[i]=l.count(i)\n",
        "  if max<l.count(i):\n",
        "    max=l.count(i)\n",
        "for k,v in d.items():\n",
        "  d[k]=max-v\n",
        "new_d={k:v for k,v in d.items() if v!=0}\n",
        "print(new_d)"
      ],
      "metadata": {
        "colab": {
          "base_uri": "https://localhost:8080/"
        },
        "id": "PCFW7xY9DO9n",
        "outputId": "dfd112eb-b139-47c1-8287-1255235585a5"
      },
      "execution_count": 56,
      "outputs": [
        {
          "output_type": "stream",
          "name": "stdout",
          "text": [
            "{5: 2, 3: 2, 2: 1}\n"
          ]
        }
      ]
    }
  ]
}